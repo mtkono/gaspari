{
 "cells": [
  {
   "cell_type": "code",
   "execution_count": null,
   "metadata": {},
   "outputs": [],
   "source": [
    "%pip install tqdm\n",
    "%pip install -q langchain langchain_community \n",
    "%pip install -q pdfplumber\n",
    "\n",
    "\n"
   ]
  },
  {
   "cell_type": "code",
   "execution_count": null,
   "metadata": {},
   "outputs": [
    {
     "name": "stderr",
     "output_type": "stream",
     "text": [
      "/var/folders/fg/lsnrhm4529g9kh8jm4vfcdrc0000gn/T/ipykernel_5229/2894384040.py:1: TqdmWarning: IProgress not found. Please update jupyter and ipywidgets. See https://ipywidgets.readthedocs.io/en/stable/user_install.html\n",
      "  from tqdm.autonotebook import tqdm\n"
     ]
    }
   ],
   "source": [
    "from tqdm.autonotebook import tqdm\n",
    "import pdfplumber\n",
    "import os \n",
    "import re\n",
    "import json"
   ]
  },
  {
   "cell_type": "markdown",
   "metadata": {},
   "source": [
    "## Util Functions"
   ]
  },
  {
   "cell_type": "code",
   "execution_count": null,
   "metadata": {},
   "outputs": [],
   "source": [
    "\n",
    "def extract_text_from_pdf(file_path, start_page=0):\n",
    "    text = \"\"\n",
    "    with pdfplumber.open(file_path) as pdf:\n",
    "        for i, page in enumerate(pdf.pages):\n",
    "            if i >= start_page:\n",
    "                text += page.extract_text()\n",
    "                text += \"\\n\"\n",
    "    return text\n",
    "\n",
    "def clean_data(text):\n",
    "    # Remove lines that contain a number surrounded by whitespace characters on both sides.\n",
    "    # This likely removes remaining page numbers.\n",
    "    text = re.sub(r\"^\\s*\\d+\\s*\\n\", \"\", text, flags=re.MULTILINE)\n",
    "\n",
    "    # Remove the page number at the very end of the file\n",
    "    text = re.sub(r\"\\s*\\d+\\s*$\", \"\", text)\n",
    "\n",
    "    text = re.sub(r'\\([^()]*\\)', '', text)\n",
    "\n",
    "    \n",
    "    # Replace single newlines with a space. This is likely to merge lines that were\n",
    "    # split incorrectly during text extraction.\n",
    "    text = re.sub(r\"(?<![?.!—])(\\n)(?!\\d)\", \" \", text)\n",
    "\n",
    "    text = text.replace(\"- \", \"\")\n",
    "\n",
    "    return text\n",
    "\n",
    "def split_text_by_questions_answers(text):\n",
    "    # Split text into paragraphs based on new line character\n",
    "    paragraphs = text.split(\"\\n\")\n",
    "\n",
    "    # Initialize list to store question and answer pairs\n",
    "    result = []\n",
    "    question = \"\"\n",
    "    answer = \"\"\n",
    "\n",
    "    # Iterate through the paragraphs\n",
    "    for paragraph in paragraphs:\n",
    "        # Check if paragraph is a question\n",
    "        if paragraph.strip().startswith(\"—\") and \"?\" in paragraph:\n",
    "            # Strip trailing whitespace and remove \"— \" to get question\n",
    "            question = paragraph.strip().replace(\"— \", \"\")\n",
    "        # Check if paragraph is an answer and there is a previous question\n",
    "        elif paragraph.strip().startswith(\"—\") and question:\n",
    "            # Strip trailing whitespace to get answer\n",
    "            answer = paragraph.strip().replace(\"— \", \"\")\n",
    "            # Append question and answer pair to result\n",
    "            result.append({\"question\": question, \"answer\": answer})\n",
    "            question = \"\"\n",
    "            answer = \"\"\n",
    "\n",
    "    return result\n",
    "            \n",
    "    \n",
    "def convert_to_jsonl(qa_pairs, filename):\n",
    "    with open(filename, \"w\", encoding=\"utf-8\") as f:\n",
    "        # Write the initial system message as the first line of the file\n",
    "        initial_message = {\n",
    "            \"messages\": [\n",
    "                {\n",
    "                    \"role\": \"System\",\n",
    "                    \"content\": \"Jesteś katolickim teologiem uznającym jedynie naukę Kościoła sprzed Soboru Watykańskiego II. Odpowiedz zwieźle na pytania doktrynalne podając odpowiednie źródła.\"\n",
    "                },\n",
    "                {\"role\": \"User\", \"content\": \"Laudatur Jesus Christus!\"},\n",
    "                {\"role\": \"Chatbot\", \"content\": \"In saecula saeculorum!\"}\n",
    "            ]\n",
    "        }\n",
    "        json.dump(initial_message, f, ensure_ascii=False)\n",
    "        f.write(\"\\n\")\n",
    "\n",
    "        # Write the question-answer pairs as subsequent lines of the file\n",
    "        for qa_pair in qa_pairs:\n",
    "            messages = [\n",
    "                {\"role\": \"User\", \"content\": qa_pair[\"question\"]},\n",
    "                {\"role\": \"Chatbot\", \"content\": qa_pair[\"answer\"]}\n",
    "            ]\n",
    "            json.dump({\"messages\": messages}, f, ensure_ascii=False)\n",
    "            f.write(\"\\n\")"
   ]
  },
  {
   "cell_type": "code",
   "execution_count": 18,
   "metadata": {},
   "outputs": [],
   "source": [
    "file_path = \"source-data/Katechizm według Summy Teologicznej św. Tomasza z Akwinu - o. Tomasz Pegues OP (1919).pdf\"\n",
    "pdf_text = extract_text_from_pdf(file_path,start_page=9)\n",
    "\n"
   ]
  },
  {
   "cell_type": "code",
   "execution_count": null,
   "metadata": {},
   "outputs": [],
   "source": [
    "\n",
    "clean_text = clean_data(pdf_text)\n",
    "# print(clean_text)\n",
    "qa_list = split_text_by_questions_answers(clean_text)\n",
    "for qa in qa_list:\n",
    "   print(f\"Question: {qa['question']}\")\n",
    "   print(f\"Answer: {qa['answer']}\\n\")"
   ]
  },
  {
   "cell_type": "code",
   "execution_count": 28,
   "metadata": {},
   "outputs": [],
   "source": [
    "# Convert the question-answer pairs into JSON format and save to a file\n",
    "convert_to_jsonl(qa_list, \"data-sets/aquinus_data_set.jsonl\")"
   ]
  }
 ],
 "metadata": {
  "kernelspec": {
   "display_name": "Python 3",
   "language": "python",
   "name": "python3"
  },
  "language_info": {
   "codemirror_mode": {
    "name": "ipython",
    "version": 3
   },
   "file_extension": ".py",
   "mimetype": "text/x-python",
   "name": "python",
   "nbconvert_exporter": "python",
   "pygments_lexer": "ipython3",
   "version": "3.11.10"
  }
 },
 "nbformat": 4,
 "nbformat_minor": 2
}
