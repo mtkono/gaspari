{
 "cells": [
  {
   "cell_type": "code",
   "execution_count": null,
   "metadata": {},
   "outputs": [],
   "source": [
    "%pip install tqdm\n",
    "%pip install -q langchain langchain_community \n",
    "%pip install -q pdfplumber\n",
    "\n",
    "\n"
   ]
  },
  {
   "cell_type": "code",
   "execution_count": 1,
   "metadata": {},
   "outputs": [
    {
     "name": "stderr",
     "output_type": "stream",
     "text": [
      "/var/folders/fg/lsnrhm4529g9kh8jm4vfcdrc0000gn/T/ipykernel_3284/2894384040.py:1: TqdmWarning: IProgress not found. Please update jupyter and ipywidgets. See https://ipywidgets.readthedocs.io/en/stable/user_install.html\n",
      "  from tqdm.autonotebook import tqdm\n"
     ]
    }
   ],
   "source": [
    "from tqdm.autonotebook import tqdm\n",
    "import pdfplumber\n",
    "import os \n",
    "import re\n",
    "import json"
   ]
  },
  {
   "cell_type": "markdown",
   "metadata": {},
   "source": [
    "## Util Functions"
   ]
  },
  {
   "cell_type": "code",
   "execution_count": 28,
   "metadata": {},
   "outputs": [],
   "source": [
    "\n",
    "def extract_text_from_pdf(file_path, start_page=0):\n",
    "    text = \"\"\n",
    "    with pdfplumber.open(file_path) as pdf:\n",
    "        for i, page in enumerate(pdf.pages):\n",
    "            if i >= start_page:\n",
    "                text += page.extract_text()\n",
    "                text += \"\\n\"\n",
    "    return text\n",
    "\n",
    "def clean_data(text):\n",
    "    # Remove lines that contain a number surrounded by whitespace characters on both sides.\n",
    "    # This likely removes remaining page numbers.\n",
    "    text = re.sub(r\"^\\s*\\d+\\s*\\n\", \"\", text, flags=re.MULTILINE)\n",
    "\n",
    "    # Remove the page number at the very end of the file\n",
    "    text = re.sub(r\"\\s*\\d+\\s*$\", \"\", text)\n",
    "\n",
    "    \n",
    "    # Replace single newlines with a space. This is likely to merge lines that were\n",
    "    # split incorrectly during text extraction.\n",
    "    text = re.sub(r\"(?<![?.!])(\\n)(?!\\d)\", \" \", text)\n",
    "\n",
    "    return text\n",
    "\n",
    "def split_text_by_questions_answers(text):\n",
    "    # Split text into paragraphs based on empty lines\n",
    "    paragraphs = text.split(\"\\n\")\n",
    "\n",
    "    # Initialize list to store question and answer pairs\n",
    "    result = []\n",
    "    question = \"\"\n",
    "    answer = \"\"\n",
    "\n",
    "    # Iterate through the paragraphs\n",
    "    for paragraph in paragraphs:\n",
    "        #print(f'PARAGRAPH: {paragraph}')\n",
    "        # Check if paragraph is a question\n",
    "        if re.match(r\"^\\d{1,4}\\sQ\\.\\s.*\\?$\", paragraph):\n",
    "            #print('QUESTUIN')\n",
    "            # Remove \"# Q. \" and strip trailing whitespace to get question\n",
    "            question = re.sub(r\"^\\d{1,3}\\sQ\\.\\s\", \"\", paragraph).strip()\n",
    "        # Check if paragraph is an answer\n",
    "        elif paragraph.startswith(\"A. \"):\n",
    "            #print('ANSWER')\n",
    "            # Remove \"A.\" and strip trailing whitespace to get answer\n",
    "            answer = paragraph.replace(\"A.\", \"\").strip()\n",
    "            # Append question and answer pair to result\n",
    "            if question:\n",
    "                result.append({\"question\": question, \"answer\": answer})\n",
    "                question = \"\"\n",
    "                answer = \"\"\n",
    "        #else:\n",
    "            #print('NEITHER')\n",
    "            \n",
    "\n",
    "    return result\n",
    "    \n",
    "def convert_to_jsonl(qa_pairs, filename):\n",
    "    with open(filename, \"w\", encoding=\"utf-8\") as f:\n",
    "        # Write the initial system message as the first line of the file\n",
    "        initial_message = {\n",
    "            \"messages\": [\n",
    "                {\n",
    "                    \"role\": \"System\",\n",
    "                    \"content\": \"Jesteś katolickim teologiem uznającym jedynie naukę Kościoła sprzed Soboru Watykańskiego II. Odpowiedz zwieźle na pytania doktrynalne podając odpowiednie źródła.\"\n",
    "                },\n",
    "                {\"role\": \"Chatbot\", \"content\": \"Laudatur Jesus Christus!\"}\n",
    "            ]\n",
    "        }\n",
    "        json.dump(initial_message, f, ensure_ascii=False)\n",
    "        f.write(\"\\n\")\n",
    "\n",
    "        # Write the question-answer pairs as subsequent lines of the file\n",
    "        for qa_pair in qa_pairs:\n",
    "            messages = [\n",
    "                {\"role\": \"User\", \"content\": qa_pair[\"question\"]},\n",
    "                {\"role\": \"Chatbot\", \"content\": qa_pair[\"answer\"]}\n",
    "            ]\n",
    "            json.dump({\"messages\": messages}, f, ensure_ascii=False)\n",
    "            f.write(\"\\n\")"
   ]
  },
  {
   "cell_type": "code",
   "execution_count": 15,
   "metadata": {},
   "outputs": [],
   "source": [
    "file_path = \"source-data/The Catechism of Saint Pope Pius X.pdf\"\n",
    "pdf_text = extract_text_from_pdf(file_path,start_page=9)\n",
    "\n"
   ]
  },
  {
   "cell_type": "code",
   "execution_count": null,
   "metadata": {},
   "outputs": [],
   "source": [
    "\n",
    "clean_text = clean_data(pdf_text)\n",
    "#print(clean_text)\n",
    "qa_list = split_text_by_questions_answers(clean_text)\n",
    "for qa in qa_list:\n",
    "   print(f\"Question: {qa['question']}\")\n",
    "   print(f\"Answer: {qa['answer']}\\n\")"
   ]
  },
  {
   "cell_type": "code",
   "execution_count": 30,
   "metadata": {},
   "outputs": [],
   "source": [
    "# Convert the question-answer pairs into JSON format and save to a file\n",
    "convert_to_jsonl(qa_list, \"data-sets/pius_x_data_set.jsonl\")"
   ]
  }
 ],
 "metadata": {
  "kernelspec": {
   "display_name": "Python 3",
   "language": "python",
   "name": "python3"
  },
  "language_info": {
   "codemirror_mode": {
    "name": "ipython",
    "version": 3
   },
   "file_extension": ".py",
   "mimetype": "text/x-python",
   "name": "python",
   "nbconvert_exporter": "python",
   "pygments_lexer": "ipython3",
   "version": "3.11.10"
  }
 },
 "nbformat": 4,
 "nbformat_minor": 2
}
