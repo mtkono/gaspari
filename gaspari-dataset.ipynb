{
 "cells": [
  {
   "cell_type": "code",
   "execution_count": 17,
   "metadata": {},
   "outputs": [
    {
     "name": "stdout",
     "output_type": "stream",
     "text": [
      "Requirement already satisfied: tqdm in ./venv/lib/python3.11/site-packages (4.67.1)\n",
      "Note: you may need to restart the kernel to use updated packages.\n",
      "Note: you may need to restart the kernel to use updated packages.\n",
      "Requirement already satisfied: pdfplumber in ./venv/lib/python3.11/site-packages (0.11.4)\n",
      "Requirement already satisfied: pdfminer.six==20231228 in ./venv/lib/python3.11/site-packages (from pdfplumber) (20231228)\n",
      "Requirement already satisfied: Pillow>=9.1 in ./venv/lib/python3.11/site-packages (from pdfplumber) (11.0.0)\n",
      "Requirement already satisfied: pypdfium2>=4.18.0 in ./venv/lib/python3.11/site-packages (from pdfplumber) (4.30.0)\n",
      "Requirement already satisfied: charset-normalizer>=2.0.0 in ./venv/lib/python3.11/site-packages (from pdfminer.six==20231228->pdfplumber) (3.4.0)\n",
      "Requirement already satisfied: cryptography>=36.0.0 in ./venv/lib/python3.11/site-packages (from pdfminer.six==20231228->pdfplumber) (44.0.0)\n",
      "Requirement already satisfied: cffi>=1.12 in ./venv/lib/python3.11/site-packages (from cryptography>=36.0.0->pdfminer.six==20231228->pdfplumber) (1.17.1)\n",
      "Requirement already satisfied: pycparser in ./venv/lib/python3.11/site-packages (from cffi>=1.12->cryptography>=36.0.0->pdfminer.six==20231228->pdfplumber) (2.22)\n",
      "Note: you may need to restart the kernel to use updated packages.\n"
     ]
    }
   ],
   "source": [
    "%pip install tqdm\n",
    "%pip install -q langchain langchain_community \n",
    "%pip install pdfplumber\n",
    "\n",
    "\n"
   ]
  },
  {
   "cell_type": "code",
   "execution_count": 1,
   "metadata": {},
   "outputs": [
    {
     "name": "stderr",
     "output_type": "stream",
     "text": [
      "/var/folders/fg/lsnrhm4529g9kh8jm4vfcdrc0000gn/T/ipykernel_27291/2894384040.py:1: TqdmWarning: IProgress not found. Please update jupyter and ipywidgets. See https://ipywidgets.readthedocs.io/en/stable/user_install.html\n",
      "  from tqdm.autonotebook import tqdm\n"
     ]
    }
   ],
   "source": [
    "from tqdm.autonotebook import tqdm\n",
    "import pdfplumber\n",
    "import os \n",
    "import re\n",
    "import json"
   ]
  },
  {
   "cell_type": "code",
   "execution_count": 3,
   "metadata": {},
   "outputs": [],
   "source": [
    "\n",
    "\n",
    "\n",
    "\n",
    "def extract_text_from_pdf(file_path):\n",
    "    text = \"\"\n",
    "    with pdfplumber.open(file_path) as pdf:\n",
    "        for i, page in enumerate(pdf.pages):\n",
    "            if i > 0:\n",
    "                text += \"\\n\"\n",
    "            text += page.extract_text()\n",
    "    return text\n",
    "\n",
    "\n",
    "\n",
    "def remove_unnecessary_newlines(text):\n",
    "    # Remove lines that contain a number surrounded by whitespace characters on both sides.\n",
    "    # This likely removes remaining page numbers.\n",
    "    text = re.sub(r\"^\\s*\\d+\\s*\\n\", \"\", text, flags=re.MULTILINE)\n",
    "\n",
    "    # Remove the page number at the very end of the file\n",
    "    text = re.sub(r\"\\s*\\d+\\s*$\", \"\", text)\n",
    "\n",
    "    # Remove text that starts with a single uppercase letter followed by a dot and a space,\n",
    "    # and continues until the next number with a dot. This likely removes section headers.\n",
    "    text = re.sub(r\"[A-Z]\\.\\s*.*?(?=\\d+\\.)\", \"\", text, flags=re.DOTALL)\n",
    "\n",
    "    # Remove text that starts from 'Część' (Part), 'Rozdział' (Chapter), or 'Art' (Article)\n",
    "    # until it reaches the next number with a dot. This likely removes section headers.\n",
    "    text = re.sub(r\"(?:Część|Rozdział|Art)\\.?\\s*.*?(?=\\d+\\.)\", \"\", text, flags=re.DOTALL)\n",
    "\n",
    "    # Replace single newlines with a space. This is likely to merge lines that were\n",
    "    # split incorrectly during text extraction.\n",
    "    text = re.sub(r\"(?<![?.!])(\\n)\", \" \", text)\n",
    "\n",
    "    return text\n",
    "\n",
    "def split_text_by_questions(text):\n",
    "    # Split text into questions and answers based on question mark\n",
    "    qa_list = re.split(r\"(\\d+\\.\\s.*?\\?)\\s\", text)\n",
    "\n",
    "    # Remove empty strings from the list\n",
    "    qa_list = [q for q in qa_list if q.strip()]\n",
    "\n",
    "    # Initialize list to store question and answer pairs\n",
    "    result = []\n",
    "    after_number = re.compile(r'\\d+\\.\\s')\n",
    "\n",
    "    # Iterate through the list in pairs\n",
    "    for i in range(1, len(qa_list), 2):\n",
    "        match = after_number.search(qa_list[i])\n",
    "        if match:\n",
    "            question = qa_list[i][match.end():].strip()\n",
    "        else:\n",
    "            question = qa_list[i].strip()\n",
    "        if i + 1 < len(qa_list):\n",
    "            answer = qa_list[i + 1].strip()\n",
    "            result.append({\"question\": question, \"answer\": answer})\n",
    "            question= ''\n",
    "            answer = ''\n",
    "        else:\n",
    "            result.append({\"question\": question, \"answer\": \"\"})\n",
    "\n",
    "    return result\n",
    "    "
   ]
  },
  {
   "cell_type": "code",
   "execution_count": 4,
   "metadata": {},
   "outputs": [],
   "source": [
    "file_path = \"data/Katechizm.pdf\"\n",
    "pdf_text = extract_text_from_pdf(file_path)\n",
    "\n"
   ]
  },
  {
   "cell_type": "code",
   "execution_count": 5,
   "metadata": {},
   "outputs": [],
   "source": [
    "\n",
    "clean_text = remove_unnecessary_newlines(pdf_text)\n",
    "#print(clean_text)\n",
    "qa_list = split_text_by_questions(clean_text)\n",
    "# for qa in qa_list:\n",
    " #  print(f\"Question: {qa['question']}\")\n",
    "  # print(f\"Answer: {qa['answer']}\\n\")"
   ]
  },
  {
   "cell_type": "code",
   "execution_count": null,
   "metadata": {},
   "outputs": [],
   "source": [
    "def convert_to_jsonl(qa_pairs, filename):\n",
    "    with open(filename, \"w\", encoding=\"utf-8\") as f:\n",
    "        # Write the initial system message as the first line of the file\n",
    "        initial_message = {\n",
    "            \"messages\": [\n",
    "                {\n",
    "                    \"role\": \"System\",\n",
    "                    \"content\": \"Jesteś katolickim teologiem uznającym jedynie naukę Kościoła sprzed Soboru Watykańskiego II. Odpowiedz zwieźle na pytania doktrynalne podając odpowiednie źródła.\"\n",
    "                },\n",
    "                {\"role\": \"Chatbot\", \"content\": \"Laudatur Jesus Christus!\"}\n",
    "            ]\n",
    "        }\n",
    "        json.dump(initial_message, f, ensure_ascii=False)\n",
    "        f.write(\"\\n\")\n",
    "\n",
    "        # Write the question-answer pairs as subsequent lines of the file\n",
    "        for qa_pair in qa_pairs:\n",
    "            messages = [\n",
    "                {\"role\": \"User\", \"content\": qa_pair[\"question\"]},\n",
    "                {\"role\": \"Chatbot\", \"content\": qa_pair[\"answer\"]}\n",
    "            ]\n",
    "            json.dump({\"messages\": messages}, f, ensure_ascii=False)\n",
    "            f.write(\"\\n\")"
   ]
  },
  {
   "cell_type": "code",
   "execution_count": 8,
   "metadata": {},
   "outputs": [],
   "source": [
    "# Convert the question-answer pairs into JSON format and save to a file\n",
    "convert_to_jsonl(qa_list, \"gaspari_data_set.jsonl\")"
   ]
  }
 ],
 "metadata": {
  "kernelspec": {
   "display_name": "Python 3",
   "language": "python",
   "name": "python3"
  },
  "language_info": {
   "codemirror_mode": {
    "name": "ipython",
    "version": 3
   },
   "file_extension": ".py",
   "mimetype": "text/x-python",
   "name": "python",
   "nbconvert_exporter": "python",
   "pygments_lexer": "ipython3",
   "version": "3.11.10"
  }
 },
 "nbformat": 4,
 "nbformat_minor": 2
}
